{
 "cells": [
  {
   "cell_type": "markdown",
   "metadata": {},
   "source": [
    "# Lab 5\n",
    "\n",
    "**This lab must be completed individually.**\n",
    "\n",
    "Where provided, try your best to match the **Sample Output** as best as you can."
   ]
  },
  {
   "cell_type": "code",
   "execution_count": 1,
   "metadata": {},
   "outputs": [],
   "source": [
    "# Before moving forward, let's import these libaries first.\n",
    "import pandas as pd\n",
    "import numpy as np"
   ]
  },
  {
   "cell_type": "markdown",
   "metadata": {},
   "source": [
    "## A. Plotting using Seaborn (and matplotlib) (Total: 2 marks)\n",
    "\n",
    "`matplotlib` is a Python library for data visualization. \n",
    "`seaborn` is a statistical data visualization library layer that provides a high-level interface for drawing statistical graphics and some convenient functions for plotting data frames.\n",
    "\n",
    "You may need to install `seaborn` and `matplotlib`\n",
    "\n",
    "`conda install seaborn`<br>\n",
    "`conda install matplotlib`\n",
    "\n",
    "and just in case it's not the latest version, go ahead and update it:\n",
    "\n",
    "`conda update matplotlib`<br>\n",
    "`conda update seaborn`\n",
    "\n"
   ]
  },
  {
   "cell_type": "markdown",
   "metadata": {},
   "source": [
    "### A1: Set the Seaborn figure theme and scale up the text in the figures (2 marks)\n",
    "\n",
    "There are five preset Seaborn themes: `darkgrid`, `whitegrid`, `dark`, `white`, and `ticks`. \n",
    "They are each suited to different applications and personal preferences.\n",
    "You can see what they look like [here](https://seaborn.pydata.org/tutorial/aesthetics.html#seaborn-figure-styles).\n",
    "\n",
    "Hint: You will need to use the `font_scale` property of the `set_theme()` function in Seaborn."
   ]
  },
  {
   "cell_type": "code",
   "execution_count": 8,
   "metadata": {},
   "outputs": [],
   "source": [
    "import matplotlib.pyplot as plt\n",
    "import seaborn as sns\n",
    "\n",
    "sns.set_theme(style = 'whitegrid', font_scale = 1)\n"
   ]
  },
  {
   "cell_type": "markdown",
   "metadata": {},
   "source": [
    "## B: Exploratory Data Analysis (34 marks)\n",
    "\n",
    "For following part of the lab, we're going to use a dataset from [Kaggle.](https://www.kaggle.com/agirlcoding/all-space-missions-from-1957)"
   ]
  },
  {
   "cell_type": "markdown",
   "metadata": {},
   "source": [
    "### B1. Describe the dataset (2 marks) \n",
    "\n",
    "Consider the following questions to guide you in your exploration:\n",
    "\n",
    "- Who: Which company/agency/organization provided this data?\n",
    "- What: What is in your data?\n",
    "- When: When was your data collected (for example, for which years)?\n",
    "- Why: What is the purpose of your dataset? Is it for transparency/accountability, public interest, fun, learning, etc...\n",
    "- How: How was your data collected? Was it a human collecting the data? Historical records digitized? Server logs?\n"
   ]
  },
  {
   "cell_type": "markdown",
   "metadata": {},
   "source": [
    "This data set is provided by the launches from Next SpaceFlight (https://nextspaceflight.com/launches/past/?page=1) but is maintained by Agirlcoding. The dataset contains data from various space missions from October 3rd, 1957 to August 13th, 2020. The data includes the company name, location, status rocket, date and time of the launch, details of the rocket, rocket number, and the status of the mission. The purpose of this dataset is mainly for fun and public interest but this exploration was specifically made to find and provide information on all space missions from 1957 to 2020, regardless of whether or not the launch was a success or failure. This data was collected by human in hopes of creating further data visualizations. \n"
   ]
  },
  {
   "cell_type": "markdown",
   "metadata": {},
   "source": [
    "### B2. Load data (1 mark)\n",
    "\n",
    "Without downloading the csv file to your repo, load the \"*Space_Cleaned.csv*\" file using the direct URL from [this link](https://gist.githubusercontent.com/lintonylin/4f9ba13dc37b7510ea392d95c494f891/raw/1092dba2c54ed10d03f2999d8ad7878757b39a8f/Space_Cleaned.csv)\n",
    "\n",
    "**DO NOT DOWNLOAD THE DATA TO YOUR REPOSITORY! ** \n",
    "Open the link, copy it and pass it to `read_csv()`.\n",
    "\n",
    "Use `pandas` module/package and the `read_csv()` function to load the data by passing in the URL and then save the data in a variable called `df`."
   ]
  },
  {
   "cell_type": "code",
   "execution_count": 9,
   "metadata": {},
   "outputs": [
    {
     "data": {
      "text/html": [
       "<div>\n",
       "<style scoped>\n",
       "    .dataframe tbody tr th:only-of-type {\n",
       "        vertical-align: middle;\n",
       "    }\n",
       "\n",
       "    .dataframe tbody tr th {\n",
       "        vertical-align: top;\n",
       "    }\n",
       "\n",
       "    .dataframe thead th {\n",
       "        text-align: right;\n",
       "    }\n",
       "</style>\n",
       "<table border=\"1\" class=\"dataframe\">\n",
       "  <thead>\n",
       "    <tr style=\"text-align: right;\">\n",
       "      <th></th>\n",
       "      <th>id</th>\n",
       "      <th>Company Name</th>\n",
       "      <th>Location</th>\n",
       "      <th>Datum</th>\n",
       "      <th>Detail</th>\n",
       "      <th>Status Rocket</th>\n",
       "      <th>Rocket</th>\n",
       "      <th>Status Mission</th>\n",
       "      <th>Country</th>\n",
       "      <th>Year</th>\n",
       "    </tr>\n",
       "  </thead>\n",
       "  <tbody>\n",
       "    <tr>\n",
       "      <th>0</th>\n",
       "      <td>0</td>\n",
       "      <td>SpaceX</td>\n",
       "      <td>LC-39A, Kennedy Space Center, Florida, USA</td>\n",
       "      <td>Fri Aug 07, 2020 05:12 UTC</td>\n",
       "      <td>Falcon 9 Block 5 | Starlink V1 L9 &amp; BlackSky</td>\n",
       "      <td>StatusActive</td>\n",
       "      <td>50</td>\n",
       "      <td>Success</td>\n",
       "      <td>United States of America</td>\n",
       "      <td>2020</td>\n",
       "    </tr>\n",
       "    <tr>\n",
       "      <th>1</th>\n",
       "      <td>1</td>\n",
       "      <td>CASC</td>\n",
       "      <td>Site 9401 (SLS-2), Jiuquan Satellite Launch Ce...</td>\n",
       "      <td>Thu Aug 06, 2020 04:01 UTC</td>\n",
       "      <td>Long March 2D | Gaofen-9 04 &amp; Q-SAT</td>\n",
       "      <td>StatusActive</td>\n",
       "      <td>29.75</td>\n",
       "      <td>Success</td>\n",
       "      <td>China</td>\n",
       "      <td>2020</td>\n",
       "    </tr>\n",
       "    <tr>\n",
       "      <th>2</th>\n",
       "      <td>2</td>\n",
       "      <td>SpaceX</td>\n",
       "      <td>Pad A, Boca Chica, Texas, USA</td>\n",
       "      <td>Tue Aug 04, 2020 23:57 UTC</td>\n",
       "      <td>Starship Prototype | 150 Meter Hop</td>\n",
       "      <td>StatusActive</td>\n",
       "      <td>NaN</td>\n",
       "      <td>Success</td>\n",
       "      <td>United States of America</td>\n",
       "      <td>2020</td>\n",
       "    </tr>\n",
       "    <tr>\n",
       "      <th>3</th>\n",
       "      <td>3</td>\n",
       "      <td>Roscosmos</td>\n",
       "      <td>Site 200/39, Baikonur Cosmodrome, Kazakhstan</td>\n",
       "      <td>Thu Jul 30, 2020 21:25 UTC</td>\n",
       "      <td>Proton-M/Briz-M | Ekspress-80 &amp; Ekspress-103</td>\n",
       "      <td>StatusActive</td>\n",
       "      <td>65</td>\n",
       "      <td>Success</td>\n",
       "      <td>Kazakhstan</td>\n",
       "      <td>2020</td>\n",
       "    </tr>\n",
       "    <tr>\n",
       "      <th>4</th>\n",
       "      <td>4</td>\n",
       "      <td>ULA</td>\n",
       "      <td>SLC-41, Cape Canaveral AFS, Florida, USA</td>\n",
       "      <td>Thu Jul 30, 2020 11:50 UTC</td>\n",
       "      <td>Atlas V 541 | Perseverance</td>\n",
       "      <td>StatusActive</td>\n",
       "      <td>145</td>\n",
       "      <td>Success</td>\n",
       "      <td>United States of America</td>\n",
       "      <td>2020</td>\n",
       "    </tr>\n",
       "    <tr>\n",
       "      <th>...</th>\n",
       "      <td>...</td>\n",
       "      <td>...</td>\n",
       "      <td>...</td>\n",
       "      <td>...</td>\n",
       "      <td>...</td>\n",
       "      <td>...</td>\n",
       "      <td>...</td>\n",
       "      <td>...</td>\n",
       "      <td>...</td>\n",
       "      <td>...</td>\n",
       "    </tr>\n",
       "    <tr>\n",
       "      <th>4279</th>\n",
       "      <td>4319</td>\n",
       "      <td>US Navy</td>\n",
       "      <td>LC-18A, Cape Canaveral AFS, Florida, USA</td>\n",
       "      <td>Wed Feb 05, 1958 07:33 UTC</td>\n",
       "      <td>Vanguard | Vanguard TV3BU</td>\n",
       "      <td>StatusRetired</td>\n",
       "      <td>NaN</td>\n",
       "      <td>Failure</td>\n",
       "      <td>United States of America</td>\n",
       "      <td>1958</td>\n",
       "    </tr>\n",
       "    <tr>\n",
       "      <th>4280</th>\n",
       "      <td>4320</td>\n",
       "      <td>AMBA</td>\n",
       "      <td>LC-26A, Cape Canaveral AFS, Florida, USA</td>\n",
       "      <td>Sat Feb 01, 1958 03:48 UTC</td>\n",
       "      <td>Juno I | Explorer 1</td>\n",
       "      <td>StatusRetired</td>\n",
       "      <td>NaN</td>\n",
       "      <td>Success</td>\n",
       "      <td>United States of America</td>\n",
       "      <td>1958</td>\n",
       "    </tr>\n",
       "    <tr>\n",
       "      <th>4281</th>\n",
       "      <td>4321</td>\n",
       "      <td>US Navy</td>\n",
       "      <td>LC-18A, Cape Canaveral AFS, Florida, USA</td>\n",
       "      <td>Fri Dec 06, 1957 16:44 UTC</td>\n",
       "      <td>Vanguard | Vanguard TV3</td>\n",
       "      <td>StatusRetired</td>\n",
       "      <td>NaN</td>\n",
       "      <td>Failure</td>\n",
       "      <td>United States of America</td>\n",
       "      <td>1957</td>\n",
       "    </tr>\n",
       "    <tr>\n",
       "      <th>4282</th>\n",
       "      <td>4322</td>\n",
       "      <td>RVSN USSR</td>\n",
       "      <td>Site 1/5, Baikonur Cosmodrome, Kazakhstan</td>\n",
       "      <td>Sun Nov 03, 1957 02:30 UTC</td>\n",
       "      <td>Sputnik 8K71PS | Sputnik-2</td>\n",
       "      <td>StatusRetired</td>\n",
       "      <td>NaN</td>\n",
       "      <td>Success</td>\n",
       "      <td>Kazakhstan</td>\n",
       "      <td>1957</td>\n",
       "    </tr>\n",
       "    <tr>\n",
       "      <th>4283</th>\n",
       "      <td>4323</td>\n",
       "      <td>RVSN USSR</td>\n",
       "      <td>Site 1/5, Baikonur Cosmodrome, Kazakhstan</td>\n",
       "      <td>Fri Oct 04, 1957 19:28 UTC</td>\n",
       "      <td>Sputnik 8K71PS | Sputnik-1</td>\n",
       "      <td>StatusRetired</td>\n",
       "      <td>NaN</td>\n",
       "      <td>Success</td>\n",
       "      <td>Kazakhstan</td>\n",
       "      <td>1957</td>\n",
       "    </tr>\n",
       "  </tbody>\n",
       "</table>\n",
       "<p>4284 rows × 10 columns</p>\n",
       "</div>"
      ],
      "text/plain": [
       "        id Company Name                                           Location  \\\n",
       "0        0       SpaceX         LC-39A, Kennedy Space Center, Florida, USA   \n",
       "1        1         CASC  Site 9401 (SLS-2), Jiuquan Satellite Launch Ce...   \n",
       "2        2       SpaceX                      Pad A, Boca Chica, Texas, USA   \n",
       "3        3    Roscosmos       Site 200/39, Baikonur Cosmodrome, Kazakhstan   \n",
       "4        4          ULA           SLC-41, Cape Canaveral AFS, Florida, USA   \n",
       "...    ...          ...                                                ...   \n",
       "4279  4319      US Navy           LC-18A, Cape Canaveral AFS, Florida, USA   \n",
       "4280  4320         AMBA           LC-26A, Cape Canaveral AFS, Florida, USA   \n",
       "4281  4321      US Navy           LC-18A, Cape Canaveral AFS, Florida, USA   \n",
       "4282  4322    RVSN USSR          Site 1/5, Baikonur Cosmodrome, Kazakhstan   \n",
       "4283  4323    RVSN USSR          Site 1/5, Baikonur Cosmodrome, Kazakhstan   \n",
       "\n",
       "                           Datum  \\\n",
       "0     Fri Aug 07, 2020 05:12 UTC   \n",
       "1     Thu Aug 06, 2020 04:01 UTC   \n",
       "2     Tue Aug 04, 2020 23:57 UTC   \n",
       "3     Thu Jul 30, 2020 21:25 UTC   \n",
       "4     Thu Jul 30, 2020 11:50 UTC   \n",
       "...                          ...   \n",
       "4279  Wed Feb 05, 1958 07:33 UTC   \n",
       "4280  Sat Feb 01, 1958 03:48 UTC   \n",
       "4281  Fri Dec 06, 1957 16:44 UTC   \n",
       "4282  Sun Nov 03, 1957 02:30 UTC   \n",
       "4283  Fri Oct 04, 1957 19:28 UTC   \n",
       "\n",
       "                                            Detail  Status Rocket  Rocket  \\\n",
       "0     Falcon 9 Block 5 | Starlink V1 L9 & BlackSky   StatusActive      50   \n",
       "1              Long March 2D | Gaofen-9 04 & Q-SAT   StatusActive   29.75   \n",
       "2               Starship Prototype | 150 Meter Hop   StatusActive     NaN   \n",
       "3     Proton-M/Briz-M | Ekspress-80 & Ekspress-103   StatusActive      65   \n",
       "4                       Atlas V 541 | Perseverance   StatusActive     145   \n",
       "...                                            ...            ...     ...   \n",
       "4279                     Vanguard | Vanguard TV3BU  StatusRetired     NaN   \n",
       "4280                           Juno I | Explorer 1  StatusRetired     NaN   \n",
       "4281                       Vanguard | Vanguard TV3  StatusRetired     NaN   \n",
       "4282                    Sputnik 8K71PS | Sputnik-2  StatusRetired     NaN   \n",
       "4283                    Sputnik 8K71PS | Sputnik-1  StatusRetired     NaN   \n",
       "\n",
       "     Status Mission                   Country  Year  \n",
       "0           Success  United States of America  2020  \n",
       "1           Success                     China  2020  \n",
       "2           Success  United States of America  2020  \n",
       "3           Success                Kazakhstan  2020  \n",
       "4           Success  United States of America  2020  \n",
       "...             ...                       ...   ...  \n",
       "4279        Failure  United States of America  1958  \n",
       "4280        Success  United States of America  1958  \n",
       "4281        Failure  United States of America  1957  \n",
       "4282        Success                Kazakhstan  1957  \n",
       "4283        Success                Kazakhstan  1957  \n",
       "\n",
       "[4284 rows x 10 columns]"
      ]
     },
     "execution_count": 9,
     "metadata": {},
     "output_type": "execute_result"
    }
   ],
   "source": [
    "df = pd.read_csv(\"https://gist.githubusercontent.com/lintonylin/4f9ba13dc37b7510ea392d95c494f891/raw/1092dba2c54ed10d03f2999d8ad7878757b39a8f/Space_Cleaned.csv\")\n",
    "df\n"
   ]
  },
  {
   "cell_type": "markdown",
   "metadata": {},
   "source": [
    "### B3. Explore your dataset (3 marks)\n",
    "\n",
    "Which of your columns are interesting/relevant? Remember to take some notes on your observations, you'll need them for the next EDA step (initial thoughts)."
   ]
  },
  {
   "cell_type": "markdown",
   "metadata": {},
   "source": [
    "#### B3.1:  You should start with [`df.describe().T`](https://pandas.pydata.org/pandas-docs/stable/reference/api/pandas.DataFrame.describe.html) (2 marks)\n",
    "\n",
    "See [linked documentation]((https://pandas.pydata.org/pandas-docs/stable/reference/api/pandas.DataFrame.describe.html) for the use of `include`/`exclude` to look at numerical and categorical data."
   ]
  },
  {
   "cell_type": "code",
   "execution_count": 14,
   "metadata": {},
   "outputs": [
    {
     "data": {
      "text/html": [
       "<div>\n",
       "<style scoped>\n",
       "    .dataframe tbody tr th:only-of-type {\n",
       "        vertical-align: middle;\n",
       "    }\n",
       "\n",
       "    .dataframe tbody tr th {\n",
       "        vertical-align: top;\n",
       "    }\n",
       "\n",
       "    .dataframe thead th {\n",
       "        text-align: right;\n",
       "    }\n",
       "</style>\n",
       "<table border=\"1\" class=\"dataframe\">\n",
       "  <thead>\n",
       "    <tr style=\"text-align: right;\">\n",
       "      <th></th>\n",
       "      <th>count</th>\n",
       "      <th>mean</th>\n",
       "      <th>std</th>\n",
       "      <th>min</th>\n",
       "      <th>25%</th>\n",
       "      <th>50%</th>\n",
       "      <th>75%</th>\n",
       "      <th>max</th>\n",
       "    </tr>\n",
       "  </thead>\n",
       "  <tbody>\n",
       "    <tr>\n",
       "      <th>id</th>\n",
       "      <td>4284.0</td>\n",
       "      <td>2173.017974</td>\n",
       "      <td>1248.313326</td>\n",
       "      <td>0.0</td>\n",
       "      <td>1102.75</td>\n",
       "      <td>2181.5</td>\n",
       "      <td>3252.25</td>\n",
       "      <td>4323.0</td>\n",
       "    </tr>\n",
       "    <tr>\n",
       "      <th>Year</th>\n",
       "      <td>4284.0</td>\n",
       "      <td>1987.215920</td>\n",
       "      <td>18.064993</td>\n",
       "      <td>1957.0</td>\n",
       "      <td>1972.00</td>\n",
       "      <td>1984.0</td>\n",
       "      <td>2002.00</td>\n",
       "      <td>2020.0</td>\n",
       "    </tr>\n",
       "  </tbody>\n",
       "</table>\n",
       "</div>"
      ],
      "text/plain": [
       "       count         mean          std     min      25%     50%      75%  \\\n",
       "id    4284.0  2173.017974  1248.313326     0.0  1102.75  2181.5  3252.25   \n",
       "Year  4284.0  1987.215920    18.064993  1957.0  1972.00  1984.0  2002.00   \n",
       "\n",
       "         max  \n",
       "id    4323.0  \n",
       "Year  2020.0  "
      ]
     },
     "execution_count": 14,
     "metadata": {},
     "output_type": "execute_result"
    }
   ],
   "source": [
    "df.describe().T"
   ]
  },
  {
   "cell_type": "code",
   "execution_count": 40,
   "metadata": {},
   "outputs": [],
   "source": [
    "#your solution here"
   ]
  },
  {
   "cell_type": "markdown",
   "metadata": {},
   "source": [
    "#### B3.2 Let's try `pandas_profiling` now. (1 mark)\n",
    "\n",
    "**Hint: To install the [`pandas_profiling`](https://towardsdatascience.com/exploratory-data-analysis-with-pandas-profiling-de3aae2ddff3) package, you'll need to use `conda`:**\n",
    "\n",
    "- `conda install -c conda-forge pandas-profiling`"
   ]
  },
  {
   "cell_type": "code",
   "execution_count": 41,
   "metadata": {},
   "outputs": [],
   "source": [
    "import pandas_profiling as pdp\n",
    "#your solution here"
   ]
  },
  {
   "cell_type": "markdown",
   "metadata": {},
   "source": [
    "### B4. Initial Thoughts (2 marks)"
   ]
  },
  {
   "cell_type": "markdown",
   "metadata": {},
   "source": [
    "#### B4.1. Use this section to record your observations. (2 marks)\n",
    "\n",
    "Does anything jump out at you as surprising or particularly interesting? \n",
    "\n",
    "Where do you think you'll go with exploring this dataset? Feel free to take notes in this section and use it as a scratch pad.\n",
    "\n",
    "Any content in this area will only be marked for effort and completeness."
   ]
  },
  {
   "cell_type": "markdown",
   "metadata": {},
   "source": [
    "#### # Your observations here:\n",
    "\n",
    "- Obs 1\n",
    "- Obs 2\n",
    "- ..."
   ]
  },
  {
   "cell_type": "markdown",
   "metadata": {},
   "source": [
    "### B5. Wrangling (10 marks)\n",
    "\n",
    "The next step is to wrangle your data based on your initial explorations. Normally, by this point, you have some idea of what your research question will be, and that will help you narrow and focus your dataset. \n",
    "\n",
    "In this lab, we will guide you through some wrangling tasks with this dataset."
   ]
  },
  {
   "cell_type": "markdown",
   "metadata": {},
   "source": [
    "#### B5.1 Change name of the column Rocket to Mission Cost and save it. (The name of the column rocket has one space before it (use ' Rocket'))(1 mark)"
   ]
  },
  {
   "cell_type": "code",
   "execution_count": 36,
   "metadata": {},
   "outputs": [],
   "source": [
    "#your solution here"
   ]
  },
  {
   "cell_type": "markdown",
   "metadata": {},
   "source": [
    "#### B5.2 Drop any NULL values if there is any. (Keep in mind whether you decide to save the dataset with no null or not will effect your future plots) (1 mark)"
   ]
  },
  {
   "cell_type": "code",
   "execution_count": 42,
   "metadata": {},
   "outputs": [],
   "source": [
    "#your solution here"
   ]
  },
  {
   "cell_type": "markdown",
   "metadata": {},
   "source": [
    "#### B5.3 Reset the index to get a new index without missing values (1 mark)"
   ]
  },
  {
   "cell_type": "code",
   "execution_count": null,
   "metadata": {},
   "outputs": [],
   "source": [
    "#your solution here"
   ]
  },
  {
   "cell_type": "markdown",
   "metadata": {},
   "source": [
    "#### B5.4. A new column was added called `index`; remove it. (1 mark)"
   ]
  },
  {
   "cell_type": "code",
   "execution_count": null,
   "metadata": {},
   "outputs": [],
   "source": [
    "#your solution here"
   ]
  },
  {
   "cell_type": "markdown",
   "metadata": {},
   "source": [
    "#### B5.5 Sort the dataframe by column Company Name. (1 mark)"
   ]
  },
  {
   "cell_type": "code",
   "execution_count": null,
   "metadata": {},
   "outputs": [],
   "source": [
    "#your solution here"
   ]
  },
  {
   "cell_type": "markdown",
   "metadata": {},
   "source": [
    "#### B5.6 Add a new column to the dataframe to convert the \"Datum\" column to a datetime object (2 marks)\n",
    "\n",
    "\n",
    "To do this, first we need to add a new column to our dataset to turn the column \"Datum\" into a proper datetime object so we can do operations on it.\n",
    "\n",
    "*Hint: Use to [to_datetime()](https://pandas.pydata.org/pandas-docs/stable/reference/api/pandas.to_datetime.html) function to help you first convert it into a datetime object, and then remove the timezone information and HH:MM:SS using [`.dt.date`](https://pandas.pydata.org/pandas-docs/stable/reference/api/pandas.Series.dt.date.html).*"
   ]
  },
  {
   "cell_type": "code",
   "execution_count": null,
   "metadata": {},
   "outputs": [],
   "source": [
    "#your solution here"
   ]
  },
  {
   "cell_type": "markdown",
   "metadata": {},
   "source": [
    "#### B5.7. Find the earliest and the latest reported launch in the dataset. (3 mark)\n",
    "\n",
    "You should use the pandas .min() and .max() functions here, now that your date string is converted to a DateTime object.\n",
    "\n",
    "##### Sample Output\n",
    "\n",
    "> The first launch in the dataset happended : 1957-10-04.<br>\n",
    "> The last launch in the dataset happended : 2020-08-07.<br>"
   ]
  },
  {
   "cell_type": "markdown",
   "metadata": {},
   "source": [
    "### B6. Research questions (2 marks)"
   ]
  },
  {
   "cell_type": "markdown",
   "metadata": {},
   "source": [
    "#### B6.1 Come up with at least two research questions about the dataset that will require data visualizations to help answer. (2 marks)\n",
    "\n",
    "Recall that for this purpose, you should only aim for \"Descriptive\" or \"Exploratory\" research questions.\n",
    "\n",
    "**Hint: You are welcome to calculate any columns that you think might be useful to answer the question (or re-add dropped columns.***\n"
   ]
  },
  {
   "cell_type": "markdown",
   "metadata": {},
   "source": [
    "#### # Your solution here: \n",
    "\n",
    "**1. Sample Research Question:** Which Company has the most mission cost?\n",
    "\n",
    "**2. Your RQ 1:**\n",
    "\n",
    "**3. Your RQ 2:**\n",
    "\n"
   ]
  },
  {
   "cell_type": "markdown",
   "metadata": {},
   "source": [
    "### B7. Data Analysis and Visualizations (10 marks)"
   ]
  },
  {
   "cell_type": "markdown",
   "metadata": {},
   "source": [
    "#### B7.1. Counts of mission status (2 marks)\n",
    "Using [`sns.countplot()`](https://seaborn.pydata.org/generated/seaborn.countplot.html?highlight=countplot#seaborn.countplot), plot the number of space launches by their status. \n",
    "\n",
    "Set the title to be \"Status Mission of space launches\". \n",
    "\n",
    "*Hint: The documentation above contains some examples that might help you get started*\n",
    "#### Sample output\n",
    "<img src=\"./images/bar1.png\" width=\"400px\" />"
   ]
  },
  {
   "cell_type": "code",
   "execution_count": null,
   "metadata": {},
   "outputs": [],
   "source": [
    "#your solution here"
   ]
  },
  {
   "cell_type": "markdown",
   "metadata": {},
   "source": [
    "#### B7.2. Counts of launches by country (2 marks)\n",
    "\n",
    "Plot the counts of launches by country, and order the y-axis by increasing the number of launches (use the `order` parameter of the `countplot()` function).\n",
    "\n",
    "<img src=\"./images/bar2.png\" width=\"700px\">"
   ]
  },
  {
   "cell_type": "code",
   "execution_count": null,
   "metadata": {},
   "outputs": [],
   "source": [
    "#your solution here"
   ]
  },
  {
   "cell_type": "markdown",
   "metadata": {},
   "source": [
    "#### B7.3 Status of mission for the top 5 companies (3 marks)\n",
    "\n",
    "Plot the counts of launches by mission status and country, and order the y-axis by increasing the number of launches \n",
    "\n",
    "*Hint: More information and examples can be find in [link](https://www.geeksforgeeks.org/matplotlib-axes-axes-barh-in-python/)*\n",
    "\n",
    "*Hint: Your plot doesn't have to look exactly like this, but please do explore the [possible color palettes](https://seaborn.pydata.org/tutorial/color_palettes.html). You can specify the colour palette by passing in the keyword like this: `palette='colorblind'`.*\n",
    "\n",
    "#### Sample output\n",
    "<img src=\"./images/bar3.png\" width=\"600px\" />"
   ]
  },
  {
   "cell_type": "code",
   "execution_count": 45,
   "metadata": {},
   "outputs": [],
   "source": [
    "#your solution"
   ]
  },
  {
   "cell_type": "markdown",
   "metadata": {},
   "source": [
    "#### B7.4. Plot the launche counts plotted over time by mission status (3 mark)\n",
    "\n",
    "Using `sns.displot`, plot the histogram of launches over time.\n",
    "\n",
    "*Hint 1: [Here is a nice tutorial](https://seaborn.pydata.org/tutorial/distributions.html) of all the different options that are possible when creating a histogram.*\n",
    "\n",
    "#### Sample output\n",
    "<img src=\"./images/bar4.png\" width=\"800px\">"
   ]
  },
  {
   "cell_type": "code",
   "execution_count": null,
   "metadata": {},
   "outputs": [],
   "source": [
    "#your solution here"
   ]
  },
  {
   "cell_type": "markdown",
   "metadata": {},
   "source": [
    "#### B7.5. BONUS - For a bonus mark, move the legend to the top left of the plot (1 mark)"
   ]
  },
  {
   "cell_type": "code",
   "execution_count": null,
   "metadata": {},
   "outputs": [],
   "source": [
    "#your solution here"
   ]
  },
  {
   "cell_type": "markdown",
   "metadata": {},
   "source": [
    "#### B7.6. BONUS - For a bonus mark, plot a similar graph like D7 that compares top 5 counties in terms of number of launches(1 mark)\n",
    "\n"
   ]
  },
  {
   "cell_type": "code",
   "execution_count": null,
   "metadata": {},
   "outputs": [],
   "source": [
    "#your solution here"
   ]
  },
  {
   "cell_type": "markdown",
   "metadata": {},
   "source": [
    "### B8. Summary and conclusions (4 marks)"
   ]
  },
  {
   "cell_type": "markdown",
   "metadata": {},
   "source": [
    "#### B8.1. Summarize your findings and describe any conclusions and insight you were able to draw from your visualizations. (3 marks)\n",
    "\n",
    "- **Research Question 1:** RQ here\n",
    "\n",
    "    - Summary of findings, insight, and conclusions\n",
    "    - ..\n",
    "    \n",
    "\n",
    "- **Research Question 2:** RQ here\n",
    "\n",
    "    - Summary of findings, insight, and conclusions\n",
    "    - .."
   ]
  },
  {
   "cell_type": "markdown",
   "metadata": {},
   "source": [
    "## C. Method Chaining (6 marks)"
   ]
  },
  {
   "cell_type": "markdown",
   "metadata": {},
   "source": [
    "Method chaining allows you to apply multiple processing steps to your dataframe in a fewer lines of code so it is more readable. You should avoid having too many methods in your chain, as the more you have in a single chain, the harder it is to debug or troubleshoot. I would target about 5 methods in a chain, though this is a flexible suggestion and you should do what makes your analysis the most readable and group your chains based on their purpose (e.g., loading/cleaning, processing, etc…)."
   ]
  },
  {
   "cell_type": "markdown",
   "metadata": {},
   "source": [
    "#### C1. Use Method Chaining on the commands from sections B5.1, B5.2, B5.3, B5.4, B5.5, B5.6 (6 marks)"
   ]
  },
  {
   "cell_type": "code",
   "execution_count": 17,
   "metadata": {},
   "outputs": [],
   "source": [
    "# Your Solution here"
   ]
  }
 ],
 "metadata": {
  "kernelspec": {
   "display_name": "Python 3",
   "language": "python",
   "name": "python3"
  },
  "language_info": {
   "codemirror_mode": {
    "name": "ipython",
    "version": 3
   },
   "file_extension": ".py",
   "mimetype": "text/x-python",
   "name": "python",
   "nbconvert_exporter": "python",
   "pygments_lexer": "ipython3",
   "version": "3.8.5"
  }
 },
 "nbformat": 4,
 "nbformat_minor": 4
}
