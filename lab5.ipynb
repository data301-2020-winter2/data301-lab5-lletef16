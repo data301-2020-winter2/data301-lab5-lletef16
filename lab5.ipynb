{
 "cells": [
  {
   "cell_type": "markdown",
   "metadata": {},
   "source": [
    "# Lab 5\n",
    "\n",
    "**This lab must be completed individually.**\n",
    "\n",
    "Where provided, try your best to match the **Sample Output** as best as you can."
   ]
  },
  {
   "cell_type": "code",
   "execution_count": 24,
   "metadata": {},
   "outputs": [],
   "source": [
    "# Before moving forward, let's import these libaries first.\n",
    "import pandas as pd\n",
    "import numpy as np"
   ]
  },
  {
   "cell_type": "markdown",
   "metadata": {},
   "source": [
    "## A. Plotting using Seaborn (and matplotlib) (Total: 2 marks)\n",
    "\n",
    "`matplotlib` is a Python library for data visualization. \n",
    "`seaborn` is a statistical data visualization library layer that provides a high-level interface for drawing statistical graphics and some convenient functions for plotting data frames.\n",
    "\n",
    "You may need to install `seaborn` and `matplotlib`\n",
    "\n",
    "`conda install seaborn`<br>\n",
    "`conda install matplotlib`\n",
    "\n",
    "and just in case it's not the latest version, go ahead and update it:\n",
    "\n",
    "`conda update matplotlib`<br>\n",
    "`conda update seaborn`\n",
    "\n"
   ]
  },
  {
   "cell_type": "markdown",
   "metadata": {},
   "source": [
    "### A1: Set the Seaborn figure theme and scale up the text in the figures (2 marks)\n",
    "\n",
    "There are five preset Seaborn themes: `darkgrid`, `whitegrid`, `dark`, `white`, and `ticks`. \n",
    "They are each suited to different applications and personal preferences.\n",
    "You can see what they look like [here](https://seaborn.pydata.org/tutorial/aesthetics.html#seaborn-figure-styles).\n",
    "\n",
    "Hint: You will need to use the `font_scale` property of the `set_theme()` function in Seaborn."
   ]
  },
  {
   "cell_type": "code",
   "execution_count": 25,
   "metadata": {},
   "outputs": [],
   "source": [
    "import matplotlib.pyplot as plt\n",
    "import seaborn as sns\n",
    "\n",
    "# Your solution here"
   ]
  },
  {
   "cell_type": "markdown",
   "metadata": {},
   "source": [
    "## B: Exploratory Data Analysis (34 marks)\n",
    "\n",
    "For following part of the lab, we're going to use a dataset from [Kaggle.](https://www.kaggle.com/agirlcoding/all-space-missions-from-1957)"
   ]
  },
  {
   "cell_type": "markdown",
   "metadata": {},
   "source": [
    "### B1. Describe the dataset (2 marks) \n",
    "\n",
    "Consider the following questions to guide you in your exploration:\n",
    "\n",
    "- Who: Which company/agency/organization provided this data?\n",
    "- What: What is in your data?\n",
    "- When: When was your data collected (for example, for which years)?\n",
    "- Why: What is the purpose of your dataset? Is it for transparency/accountability, public interest, fun, learning, etc...\n",
    "- How: How was your data collected? Was it a human collecting the data? Historical records digitized? Server logs?\n"
   ]
  },
  {
   "cell_type": "markdown",
   "metadata": {},
   "source": [
    "#your solution here\n",
    "\n",
    "*Hint: You probably will not need more than 250 words to describe your dataset. All the questions above do not need to be answered, it's more to guide your exploration and think a little bit about the context of your data. It is also possible you will not know the answers to some of the questions above, that is FINE - data scientists are often faced with the challenge of analyzing data from unknown sources. Do your best, acknowledge the limitations of your data as well as your understanding of it. Also, make it clear what you're speculating about. For example, \"I speculate that the {...column_name...} column must be related to {....} because {....}.\"*"
   ]
  },
  {
   "cell_type": "markdown",
   "metadata": {},
   "source": [
    "### B2. Load data (1 mark)\n",
    "\n",
    "Without downloading the csv file to your repo, load the \"*Space_Cleaned.csv*\" file using the direct URL from [this link](https://gist.githubusercontent.com/lintonylin/4f9ba13dc37b7510ea392d95c494f891/raw/1092dba2c54ed10d03f2999d8ad7878757b39a8f/Space_Cleaned.csv)\n",
    "\n",
    "**DO NOT DOWNLOAD THE DATA TO YOUR REPOSITORY! ** \n",
    "Open the link, copy it and pass it to `read_csv()`.\n",
    "\n",
    "Use `pandas` module/package and the `read_csv()` function to load the data by passing in the URL and then save the data in a variable called `df`."
   ]
  },
  {
   "cell_type": "code",
   "execution_count": 38,
   "metadata": {},
   "outputs": [],
   "source": [
    "#your solution here"
   ]
  },
  {
   "cell_type": "markdown",
   "metadata": {},
   "source": [
    "### B3. Explore your dataset (3 marks)\n",
    "\n",
    "Which of your columns are interesting/relevant? Remember to take some notes on your observations, you'll need them for the next EDA step (initial thoughts)."
   ]
  },
  {
   "cell_type": "markdown",
   "metadata": {},
   "source": [
    "#### B3.1:  You should start with [`df.describe().T`](https://pandas.pydata.org/pandas-docs/stable/reference/api/pandas.DataFrame.describe.html) (2 marks)\n",
    "\n",
    "See [linked documentation]((https://pandas.pydata.org/pandas-docs/stable/reference/api/pandas.DataFrame.describe.html) for the use of `include`/`exclude` to look at numerical and categorical data."
   ]
  },
  {
   "cell_type": "code",
   "execution_count": 39,
   "metadata": {},
   "outputs": [],
   "source": [
    "#your solution here"
   ]
  },
  {
   "cell_type": "code",
   "execution_count": 40,
   "metadata": {},
   "outputs": [],
   "source": [
    "#your solution here"
   ]
  },
  {
   "cell_type": "markdown",
   "metadata": {},
   "source": [
    "#### B3.2 Let's try `pandas_profiling` now. (1 mark)\n",
    "\n",
    "**Hint: To install the [`pandas_profiling`](https://towardsdatascience.com/exploratory-data-analysis-with-pandas-profiling-de3aae2ddff3) package, you'll need to use `conda`:**\n",
    "\n",
    "- `conda install -c conda-forge pandas-profiling`"
   ]
  },
  {
   "cell_type": "code",
   "execution_count": 41,
   "metadata": {},
   "outputs": [],
   "source": [
    "import pandas_profiling as pdp\n",
    "#your solution here"
   ]
  },
  {
   "cell_type": "markdown",
   "metadata": {},
   "source": [
    "### B4. Initial Thoughts (2 marks)"
   ]
  },
  {
   "cell_type": "markdown",
   "metadata": {},
   "source": [
    "#### B4.1. Use this section to record your observations. (2 marks)\n",
    "\n",
    "Does anything jump out at you as surprising or particularly interesting? \n",
    "\n",
    "Where do you think you'll go with exploring this dataset? Feel free to take notes in this section and use it as a scratch pad.\n",
    "\n",
    "Any content in this area will only be marked for effort and completeness."
   ]
  },
  {
   "cell_type": "markdown",
   "metadata": {},
   "source": [
    "#### # Your observations here:\n",
    "\n",
    "- Obs 1\n",
    "- Obs 2\n",
    "- ..."
   ]
  },
  {
   "cell_type": "markdown",
   "metadata": {},
   "source": [
    "### B5. Wrangling (10 marks)\n",
    "\n",
    "The next step is to wrangle your data based on your initial explorations. Normally, by this point, you have some idea of what your research question will be, and that will help you narrow and focus your dataset. \n",
    "\n",
    "In this lab, we will guide you through some wrangling tasks with this dataset."
   ]
  },
  {
   "cell_type": "markdown",
   "metadata": {},
   "source": [
    "#### B5.1 Change name of the column Rocket to Mission Cost and save it. (The name of the column rocket has one space before it (use ' Rocket'))(1 mark)"
   ]
  },
  {
   "cell_type": "code",
   "execution_count": 36,
   "metadata": {},
   "outputs": [],
   "source": [
    "#your solution here"
   ]
  },
  {
   "cell_type": "markdown",
   "metadata": {},
   "source": [
    "#### B5.2 Drop any NULL values if there is any. (Keep in mind whether you decide to save the dataset with no null or not will effect your future plots) (1 mark)"
   ]
  },
  {
   "cell_type": "code",
   "execution_count": 42,
   "metadata": {},
   "outputs": [],
   "source": [
    "#your solution here"
   ]
  },
  {
   "cell_type": "markdown",
   "metadata": {},
   "source": [
    "#### B5.3 Reset the index to get a new index without missing values (1 mark)"
   ]
  },
  {
   "cell_type": "code",
   "execution_count": null,
   "metadata": {},
   "outputs": [],
   "source": [
    "#your solution here"
   ]
  },
  {
   "cell_type": "markdown",
   "metadata": {},
   "source": [
    "#### B5.4. A new column was added called `index`; remove it. (1 mark)"
   ]
  },
  {
   "cell_type": "code",
   "execution_count": null,
   "metadata": {},
   "outputs": [],
   "source": [
    "#your solution here"
   ]
  },
  {
   "cell_type": "markdown",
   "metadata": {},
   "source": [
    "#### B5.5 Sort the dataframe by column Company Name. (1 mark)"
   ]
  },
  {
   "cell_type": "code",
   "execution_count": null,
   "metadata": {},
   "outputs": [],
   "source": [
    "#your solution here"
   ]
  },
  {
   "cell_type": "markdown",
   "metadata": {},
   "source": [
    "#### B5.6 Add a new column to the dataframe to convert the \"Datum\" column to a datetime object (2 marks)\n",
    "\n",
    "\n",
    "To do this, first we need to add a new column to our dataset to turn the column \"Datum\" into a proper datetime object so we can do operations on it.\n",
    "\n",
    "*Hint: Use to [to_datetime()](https://pandas.pydata.org/pandas-docs/stable/reference/api/pandas.to_datetime.html) function to help you first convert it into a datetime object, and then remove the timezone information and HH:MM:SS using [`.dt.date`](https://pandas.pydata.org/pandas-docs/stable/reference/api/pandas.Series.dt.date.html).*"
   ]
  },
  {
   "cell_type": "code",
   "execution_count": null,
   "metadata": {},
   "outputs": [],
   "source": [
    "#your solution here"
   ]
  },
  {
   "cell_type": "markdown",
   "metadata": {},
   "source": [
    "#### B5.7. Find the earliest and the latest reported launch in the dataset. (3 mark)\n",
    "\n",
    "You should use the pandas .min() and .max() functions here, now that your date string is converted to a DateTime object.\n",
    "\n",
    "##### Sample Output\n",
    "\n",
    "> The first launch in the dataset happended : 1957-10-04.<br>\n",
    "> The last launch in the dataset happended : 2020-08-07.<br>"
   ]
  },
  {
   "cell_type": "markdown",
   "metadata": {},
   "source": [
    "### B6. Research questions (2 marks)"
   ]
  },
  {
   "cell_type": "markdown",
   "metadata": {},
   "source": [
    "#### B6.1 Come up with at least two research questions about the dataset that will require data visualizations to help answer. (2 marks)\n",
    "\n",
    "Recall that for this purpose, you should only aim for \"Descriptive\" or \"Exploratory\" research questions.\n",
    "\n",
    "**Hint: You are welcome to calculate any columns that you think might be useful to answer the question (or re-add dropped columns.***\n"
   ]
  },
  {
   "cell_type": "markdown",
   "metadata": {},
   "source": [
    "#### # Your solution here: \n",
    "\n",
    "**1. Sample Research Question:** Which Company has the most mission cost?\n",
    "\n",
    "**2. Your RQ 1:**\n",
    "\n",
    "**3. Your RQ 2:**\n",
    "\n"
   ]
  },
  {
   "cell_type": "markdown",
   "metadata": {},
   "source": [
    "### B7. Data Analysis and Visualizations (10 marks)"
   ]
  },
  {
   "cell_type": "markdown",
   "metadata": {},
   "source": [
    "#### B7.1. Counts of mission status (2 marks)\n",
    "Using [`sns.countplot()`](https://seaborn.pydata.org/generated/seaborn.countplot.html?highlight=countplot#seaborn.countplot), plot the number of space launches by their status. \n",
    "\n",
    "Set the title to be \"Status Mission of space launches\". \n",
    "\n",
    "*Hint: The documentation above contains some examples that might help you get started*\n",
    "#### Sample output\n",
    "<img src=\"./images/bar1.png\" width=\"400px\" />"
   ]
  },
  {
   "cell_type": "code",
   "execution_count": null,
   "metadata": {},
   "outputs": [],
   "source": [
    "#your solution here"
   ]
  },
  {
   "cell_type": "markdown",
   "metadata": {},
   "source": [
    "#### B7.2. Counts of launches by country (2 marks)\n",
    "\n",
    "Plot the counts of launches by country, and order the y-axis by increasing the number of launches (use the `order` parameter of the `countplot()` function).\n",
    "\n",
    "<img src=\"./images/bar2.png\" width=\"700px\">"
   ]
  },
  {
   "cell_type": "code",
   "execution_count": null,
   "metadata": {},
   "outputs": [],
   "source": [
    "#your solution here"
   ]
  },
  {
   "cell_type": "markdown",
   "metadata": {},
   "source": [
    "#### B7.3 Status of mission for the top 5 companies (3 marks)\n",
    "\n",
    "Plot the counts of launches by mission status and country, and order the y-axis by increasing the number of launches \n",
    "\n",
    "*Hint: More information and examples can be find in [link](https://www.geeksforgeeks.org/matplotlib-axes-axes-barh-in-python/)*\n",
    "\n",
    "*Hint: Your plot doesn't have to look exactly like this, but please do explore the [possible color palettes](https://seaborn.pydata.org/tutorial/color_palettes.html). You can specify the colour palette by passing in the keyword like this: `palette='colorblind'`.*\n",
    "\n",
    "#### Sample output\n",
    "<img src=\"./images/bar3.png\" width=\"600px\" />"
   ]
  },
  {
   "cell_type": "code",
   "execution_count": 45,
   "metadata": {},
   "outputs": [],
   "source": [
    "#your solution"
   ]
  },
  {
   "cell_type": "markdown",
   "metadata": {},
   "source": [
    "#### B7.4. Plot the launche counts plotted over time by mission status (3 mark)\n",
    "\n",
    "Using `sns.displot`, plot the histogram of launches over time.\n",
    "\n",
    "*Hint 1: [Here is a nice tutorial](https://seaborn.pydata.org/tutorial/distributions.html) of all the different options that are possible when creating a histogram.*\n",
    "\n",
    "#### Sample output\n",
    "<img src=\"./images/bar4.png\" width=\"800px\">"
   ]
  },
  {
   "cell_type": "code",
   "execution_count": null,
   "metadata": {},
   "outputs": [],
   "source": [
    "#your solution here"
   ]
  },
  {
   "cell_type": "markdown",
   "metadata": {},
   "source": [
    "#### B7.5. BONUS - For a bonus mark, move the legend to the top left of the plot (1 mark)"
   ]
  },
  {
   "cell_type": "code",
   "execution_count": null,
   "metadata": {},
   "outputs": [],
   "source": [
    "#your solution here"
   ]
  },
  {
   "cell_type": "markdown",
   "metadata": {},
   "source": [
    "#### B7.6. BONUS - For a bonus mark, plot a similar graph like D7 that compares top 5 counties in terms of number of launches(1 mark)\n",
    "\n"
   ]
  },
  {
   "cell_type": "code",
   "execution_count": null,
   "metadata": {},
   "outputs": [],
   "source": [
    "#your solution here"
   ]
  },
  {
   "cell_type": "markdown",
   "metadata": {},
   "source": [
    "### B8. Summary and conclusions (4 marks)"
   ]
  },
  {
   "cell_type": "markdown",
   "metadata": {},
   "source": [
    "#### B8.1. Summarize your findings and describe any conclusions and insight you were able to draw from your visualizations. (3 marks)\n",
    "\n",
    "- **Research Question 1:** RQ here\n",
    "\n",
    "    - Summary of findings, insight, and conclusions\n",
    "    - ..\n",
    "    \n",
    "\n",
    "- **Research Question 2:** RQ here\n",
    "\n",
    "    - Summary of findings, insight, and conclusions\n",
    "    - .."
   ]
  },
  {
   "cell_type": "markdown",
   "metadata": {},
   "source": [
    "## C. Method Chaining (6 marks)"
   ]
  },
  {
   "cell_type": "markdown",
   "metadata": {},
   "source": [
    "Method chaining allows you to apply multiple processing steps to your dataframe in a fewer lines of code so it is more readable. You should avoid having too many methods in your chain, as the more you have in a single chain, the harder it is to debug or troubleshoot. I would target about 5 methods in a chain, though this is a flexible suggestion and you should do what makes your analysis the most readable and group your chains based on their purpose (e.g., loading/cleaning, processing, etc…)."
   ]
  },
  {
   "cell_type": "markdown",
   "metadata": {},
   "source": [
    "#### C1. Use Method Chaining on the commands from sections B5.1, B5.2, B5.3, B5.4, B5.5, B5.6 (6 marks)"
   ]
  },
  {
   "cell_type": "code",
   "execution_count": 17,
   "metadata": {},
   "outputs": [],
   "source": [
    "# Your Solution here"
   ]
  }
 ],
 "metadata": {
  "kernelspec": {
   "display_name": "Python 3",
   "language": "python",
   "name": "python3"
  },
  "language_info": {
   "codemirror_mode": {
    "name": "ipython",
    "version": 3
   },
   "file_extension": ".py",
   "mimetype": "text/x-python",
   "name": "python",
   "nbconvert_exporter": "python",
   "pygments_lexer": "ipython3",
   "version": "3.8.5"
  }
 },
 "nbformat": 4,
 "nbformat_minor": 4
}
